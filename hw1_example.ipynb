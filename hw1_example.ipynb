{
 "cells": [
  {
   "cell_type": "code",
   "execution_count": null,
   "id": "66046deb-7f77-4c5b-bdd3-7726b50803de",
   "metadata": {},
   "outputs": [],
   "source": [
    "# example"
   ]
  },
  {
   "cell_type": "code",
   "execution_count": 1,
   "id": "614478de-49af-4bfb-99cc-a8b8d7780831",
   "metadata": {},
   "outputs": [],
   "source": [
    "\n",
    "import sys\n",
    "sys.path.append('/home/ir/PycharmProjects/python_2024')"
   ]
  },
  {
   "cell_type": "code",
   "execution_count": 2,
   "id": "d6cfb703-d72f-43ed-b55e-dac9b3156016",
   "metadata": {},
   "outputs": [],
   "source": [
    "from new_py_file import *"
   ]
  },
  {
   "cell_type": "code",
   "execution_count": 3,
   "id": "236a2f79-6b4f-45f0-aa9e-688fffdb293e",
   "metadata": {},
   "outputs": [
    {
     "name": "stdout",
     "output_type": "stream",
     "text": [
      "['AUG']\n"
     ]
    }
   ],
   "source": [
    "run_dna_rna_tools('ATG', 'transcribe') # 'AUG'"
   ]
  },
  {
   "cell_type": "code",
   "execution_count": 4,
   "id": "a1939dbc-3a81-4d85-8d15-b7a4fabd7216",
   "metadata": {},
   "outputs": [
    {
     "name": "stdout",
     "output_type": "stream",
     "text": [
      "['GTA']\n"
     ]
    }
   ],
   "source": [
    "run_dna_rna_tools('ATG', 'reverse') # 'GTA"
   ]
  },
  {
   "cell_type": "code",
   "execution_count": 5,
   "id": "a9ac7d5b-65fc-4ad4-af10-9cf6b5b35fa8",
   "metadata": {},
   "outputs": [
    {
     "name": "stdout",
     "output_type": "stream",
     "text": [
      "['TaC']\n"
     ]
    }
   ],
   "source": [
    "run_dna_rna_tools('AtG', 'complement') # 'TaC'"
   ]
  },
  {
   "cell_type": "code",
   "execution_count": 6,
   "id": "bf637f58-f2cb-4a68-a8af-d5be37155d84",
   "metadata": {},
   "outputs": [
    {
     "name": "stdout",
     "output_type": "stream",
     "text": [
      "['cAT']\n"
     ]
    }
   ],
   "source": [
    "run_dna_rna_tools('ATg', 'reverse_complement') # 'cAT'"
   ]
  },
  {
   "cell_type": "code",
   "execution_count": 7,
   "id": "c1a61fb6-c038-4522-939d-a06fcc2fdc5f",
   "metadata": {},
   "outputs": [
    {
     "name": "stdout",
     "output_type": "stream",
     "text": [
      "['GTA', 'Ta']\n"
     ]
    }
   ],
   "source": [
    "run_dna_rna_tools('ATG', 'aT', 'reverse') # ['GTA', 'Ta']"
   ]
  },
  {
   "cell_type": "code",
   "execution_count": 8,
   "id": "b1a6a3f8-a715-42f3-97ba-d92d1483d627",
   "metadata": {},
   "outputs": [
    {
     "name": "stdout",
     "output_type": "stream",
     "text": [
      "nado chto-to sdelat  - unknown command\n"
     ]
    }
   ],
   "source": [
    "run_dna_rna_tools('ATG', 'nado chto-to sdelat') "
   ]
  },
  {
   "cell_type": "code",
   "execution_count": 9,
   "id": "0552d141-9aca-4e62-909f-21a9c13ccd53",
   "metadata": {},
   "outputs": [
    {
     "name": "stdout",
     "output_type": "stream",
     "text": [
      "to samoe chto-to  - isnt seq\n"
     ]
    }
   ],
   "source": [
    "run_dna_rna_tools('to samoe chto-to', 'reverse')"
   ]
  },
  {
   "cell_type": "code",
   "execution_count": 10,
   "id": "a8380471-435d-4c47-b115-ab285e0757ea",
   "metadata": {},
   "outputs": [
    {
     "name": "stdout",
     "output_type": "stream",
     "text": [
      "ATgU  - isnt seq\n"
     ]
    }
   ],
   "source": [
    "run_dna_rna_tools('ATgU', 'reverse_complement')"
   ]
  }
 ],
 "metadata": {
  "kernelspec": {
   "display_name": "Python 3 (ipykernel)",
   "language": "python",
   "name": "python3"
  },
  "language_info": {
   "codemirror_mode": {
    "name": "ipython",
    "version": 3
   },
   "file_extension": ".py",
   "mimetype": "text/x-python",
   "name": "python",
   "nbconvert_exporter": "python",
   "pygments_lexer": "ipython3",
   "version": "3.10.12"
  }
 },
 "nbformat": 4,
 "nbformat_minor": 5
}
