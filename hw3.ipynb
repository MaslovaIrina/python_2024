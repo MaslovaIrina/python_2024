{
 "cells": [
  {
   "cell_type": "code",
   "execution_count": 1,
   "id": "ebf7b268-36ff-41a0-92e4-8327b626a35c",
   "metadata": {},
   "outputs": [],
   "source": [
    "from hw3 import *"
   ]
  },
  {
   "cell_type": "code",
   "execution_count": 2,
   "id": "c0bab335-e55d-44b7-9710-7e6207ddfa10",
   "metadata": {},
   "outputs": [
    {
     "name": "stderr",
     "output_type": "stream",
     "text": [
      "/home/ir/Desktop/python/hw3.py:50: FutureWarning: Calling int on a single element Series is deprecated and will raise a TypeError in the future. Use int(ser.iloc[0]) instead\n",
      "  sred_value = sred_value + int(ASCII_df.Dec[ASCII_df.Character == letter])\n"
     ]
    },
    {
     "data": {
      "text/plain": [
       "{'name1': ('agatacaa', 'zzdsdfaaa'), 'name2': ('aca', '000')}"
      ]
     },
     "execution_count": 2,
     "metadata": {},
     "output_type": "execute_result"
    }
   ],
   "source": [
    "seqs = {'name1': ('agatacaa', 'zzdsdfaaa'),\n",
    "       'name2': ('aca', '000'),\n",
    "       'name3': ('ccccc', 'aasdd'),}\n",
    "main(seqs, gc_bounds = (0,90)) "
   ]
  },
  {
   "cell_type": "code",
   "execution_count": 3,
   "id": "5bf8d249-ca3c-42bb-b509-7d63af223e1d",
   "metadata": {},
   "outputs": [
    {
     "name": "stdout",
     "output_type": "stream",
     "text": [
      "name2\n"
     ]
    },
    {
     "name": "stderr",
     "output_type": "stream",
     "text": [
      "/home/ir/Desktop/python/hw3.py:50: FutureWarning: Calling int on a single element Series is deprecated and will raise a TypeError in the future. Use int(ser.iloc[0]) instead\n",
      "  sred_value = sred_value + int(ASCII_df.Dec[ASCII_df.Character == letter])\n"
     ]
    },
    {
     "data": {
      "text/plain": [
       "{'name1': ('agatacaa', 'zzdsdfaaa'), 'name3': ('ccccc', 'aasdd')}"
      ]
     },
     "execution_count": 3,
     "metadata": {},
     "output_type": "execute_result"
    }
   ],
   "source": [
    "seqs = {'name1': ('agatacaa', 'zzdsdfaaa'),\n",
    "       'name2': ('aca', '000'),\n",
    "       'name3': ('ccccc', 'aasdd'),}\n",
    "main(seqs, quality_threshold = 20) "
   ]
  },
  {
   "cell_type": "code",
   "execution_count": 4,
   "id": "9bfe598e-c865-4de7-8eb1-cb213fb54236",
   "metadata": {},
   "outputs": [
    {
     "name": "stderr",
     "output_type": "stream",
     "text": [
      "/home/ir/Desktop/python/hw3.py:50: FutureWarning: Calling int on a single element Series is deprecated and will raise a TypeError in the future. Use int(ser.iloc[0]) instead\n",
      "  sred_value = sred_value + int(ASCII_df.Dec[ASCII_df.Character == letter])\n"
     ]
    },
    {
     "data": {
      "text/plain": [
       "{'name2': ('aca', '000'), 'name3': ('ccccc', 'aasdd')}"
      ]
     },
     "execution_count": 4,
     "metadata": {},
     "output_type": "execute_result"
    }
   ],
   "source": [
    "seqs = {'name1': ('agatacaa', 'zzdsdfaaa'),\n",
    "       'name2': ('aca', '000'),\n",
    "       'name3': ('ccccc', 'aasdd'),}\n",
    "main(seqs, lenght_bounds = 6)"
   ]
  }
 ],
 "metadata": {
  "kernelspec": {
   "display_name": "Python 3 (ipykernel)",
   "language": "python",
   "name": "python3"
  },
  "language_info": {
   "codemirror_mode": {
    "name": "ipython",
    "version": 3
   },
   "file_extension": ".py",
   "mimetype": "text/x-python",
   "name": "python",
   "nbconvert_exporter": "python",
   "pygments_lexer": "ipython3",
   "version": "3.11.4"
  }
 },
 "nbformat": 4,
 "nbformat_minor": 5
}
