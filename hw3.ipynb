{
 "cells": [
  {
   "cell_type": "markdown",
   "id": "be74f684-f468-45fe-ae91-64b6d4954e05",
   "metadata": {
    "tags": []
   },
   "source": [
    "## демонстрация работы главной функции с fastq-последовательностями\n",
    "функция предназначена для проверки пригодности fastq-последовательностей\n",
    "\n",
    "_в туториале написано, что так оформляются цитаты_ \n",
    "> Блин, я начал оправдывать Москву \n",
    ">> слова одного сэнсэя"
   ]
  },
  {
   "cell_type": "code",
   "execution_count": 1,
   "id": "ebf7b268-36ff-41a0-92e4-8327b626a35c",
   "metadata": {},
   "outputs": [],
   "source": [
    "from hw3 import *"
   ]
  },
  {
   "cell_type": "markdown",
   "id": "14e56f60-4815-4e18-8e7a-3ad6ed1e7ea8",
   "metadata": {
    "tags": []
   },
   "source": [
    "#### демонстрация работы функции с ограничением по содержанию gс-нуклеотидов"
   ]
  },
  {
   "cell_type": "code",
   "execution_count": 2,
   "id": "c0bab335-e55d-44b7-9710-7e6207ddfa10",
   "metadata": {},
   "outputs": [
    {
     "data": {
      "text/plain": [
       "{'name1': ('agatacaa', 'zzdsdfaaa'), 'name2': ('aca', '000')}"
      ]
     },
     "execution_count": 2,
     "metadata": {},
     "output_type": "execute_result"
    }
   ],
   "source": [
    "seqs = {'name1': ('agatacaa', 'zzdsdfaaa'),\n",
    "       'name2': ('aca', '000'),\n",
    "       'name3': ('ccccc', 'aasdd'),}\n",
    "main(seqs, gc_bounds = (0,90)) "
   ]
  },
  {
   "cell_type": "markdown",
   "id": "bc685ac1-bde6-4845-8236-955063480cd3",
   "metadata": {},
   "source": [
    "#### демонстрация работы функции с ограничением по качеству"
   ]
  },
  {
   "cell_type": "code",
   "execution_count": 3,
   "id": "5bf8d249-ca3c-42bb-b509-7d63af223e1d",
   "metadata": {},
   "outputs": [
    {
     "data": {
      "text/plain": [
       "{'name1': ('agatacaa', 'zzdsdfaaa'), 'name3': ('ccccc', 'aasdd')}"
      ]
     },
     "execution_count": 3,
     "metadata": {},
     "output_type": "execute_result"
    }
   ],
   "source": [
    "seqs = {'name1': ('agatacaa', 'zzdsdfaaa'),\n",
    "       'name2': ('aca', '000'),\n",
    "       'name3': ('ccccc', 'aasdd'),}\n",
    "main(seqs, quality_threshold = 20) "
   ]
  },
  {
   "cell_type": "markdown",
   "id": "1ac0c5a9-a90c-4ba0-a564-2d6a978a0cba",
   "metadata": {},
   "source": [
    "#### демонстрация работы функции с ограничением по длине последовательности"
   ]
  },
  {
   "cell_type": "code",
   "execution_count": 4,
   "id": "026bbb20-7d7e-4341-b145-ee2917ae6689",
   "metadata": {},
   "outputs": [
    {
     "data": {
      "text/plain": [
       "{'name2': ('aca', '000'), 'name3': ('ccccc', 'aasdd')}"
      ]
     },
     "execution_count": 4,
     "metadata": {},
     "output_type": "execute_result"
    }
   ],
   "source": [
    "seqs = {'name1': ('agatacaa', 'zzdsdfaaa'),\n",
    "       'name2': ('aca', '000'),\n",
    "       'name3': ('ccccc', 'aasdd'),}\n",
    "main(seqs, lenght_bounds = 6)"
   ]
  },
  {
   "cell_type": "markdown",
   "id": "a0d09566-4e7e-4186-b7ef-5c759ef42e05",
   "metadata": {},
   "source": [
    "#### демонстрация работы функции с дополнительными ограничениями"
   ]
  },
  {
   "cell_type": "code",
   "execution_count": 5,
   "id": "af7b6e07-9661-45bc-9157-c802c77d9963",
   "metadata": {},
   "outputs": [
    {
     "data": {
      "text/plain": [
       "{'name3': ('ccccc', 'aasdd')}"
      ]
     },
     "execution_count": 5,
     "metadata": {},
     "output_type": "execute_result"
    }
   ],
   "source": [
    "seqs = {'name1': ('agatacaa', 'zzdsdfaaa'),\n",
    "       'name2': ('aca', '00'),\n",
    "       'name3': ('ccccc', 'aasdd'),}\n",
    "main(seqs, additional_verifiaction = True)"
   ]
  }
 ],
 "metadata": {
  "kernelspec": {
   "display_name": "Python 3 (ipykernel)",
   "language": "python",
   "name": "python3"
  },
  "language_info": {
   "codemirror_mode": {
    "name": "ipython",
    "version": 3
   },
   "file_extension": ".py",
   "mimetype": "text/x-python",
   "name": "python",
   "nbconvert_exporter": "python",
   "pygments_lexer": "ipython3",
   "version": "3.11.4"
  }
 },
 "nbformat": 4,
 "nbformat_minor": 5
}
