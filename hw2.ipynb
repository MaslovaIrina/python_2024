{
 "cells": [
  {
   "cell_type": "code",
   "execution_count": 1,
   "id": "116c5d2c-265f-4bfe-a02f-2f476fb8fc7a",
   "metadata": {},
   "outputs": [],
   "source": [
    "from hw2 import *"
   ]
  },
  {
   "cell_type": "code",
   "execution_count": 2,
   "id": "f9e867ff-d566-4c5d-9a94-c1d19bc4c515",
   "metadata": {},
   "outputs": [
    {
     "data": {
      "text/plain": [
       "['аминокислотная последовательность aararlss могла получиться из 497664 различных нуклеотидных последовательностей. Пример нуклеотидной последовательности: GCTGCTCGTGCTCGTCTTTCTTCT',\n",
       " 'аминокислотная последовательность afa могла получиться из 32 различных нуклеотидных последовательностей. Пример нуклеотидной последовательности: GCTTTTGCT']"
      ]
     },
     "execution_count": 2,
     "metadata": {},
     "output_type": "execute_result"
    }
   ],
   "source": [
    "AK_functions('aararlss', 'afa', 'DNA_karta')"
   ]
  },
  {
   "cell_type": "code",
   "execution_count": 3,
   "id": "ff4c0c11-ad9c-4691-9366-932985ebb548",
   "metadata": {},
   "outputs": [
    {
     "data": {
      "text/plain": [
       "[\"aararlss - isn't palindrom\", 'afa - palindrom', 'alla - palindrom']"
      ]
     },
     "execution_count": 3,
     "metadata": {},
     "output_type": "execute_result"
    }
   ],
   "source": [
    "AK_functions('aararlss', 'afa', 'alla', 'palindrom')"
   ]
  },
  {
   "cell_type": "code",
   "execution_count": 4,
   "id": "956bad02-8761-4700-9e12-d911cae5ca2b",
   "metadata": {},
   "outputs": [
    {
     "name": "stdout",
     "output_type": "stream",
     "text": [
      "GCTGCTCGTGCTCGTCTTTCTTCT\n"
     ]
    },
    {
     "data": {
      "text/plain": [
       "[{'1-й TTT': 16, '1-й GTGCTC': 7}]"
      ]
     },
     "execution_count": 4,
     "metadata": {},
     "output_type": "execute_result"
    }
   ],
   "source": [
    "AK_functions('aararlss', 'restriction')"
   ]
  },
  {
   "cell_type": "code",
   "execution_count": 5,
   "id": "3e381de9-b371-42f8-93ff-5d27248fb7e6",
   "metadata": {},
   "outputs": [
    {
     "name": "stdout",
     "output_type": "stream",
     "text": [
      "GCTGCTGCTGCT\n"
     ]
    },
    {
     "data": {
      "text/plain": [
       "['нам стоило подготовиться получше... ']"
      ]
     },
     "execution_count": 5,
     "metadata": {},
     "output_type": "execute_result"
    }
   ],
   "source": [
    "AK_functions('aaaa', 'restriction')"
   ]
  },
  {
   "cell_type": "code",
   "execution_count": 6,
   "id": "20e66a62-234d-401a-8e67-cd8e38ae0add",
   "metadata": {},
   "outputs": [
    {
     "name": "stderr",
     "output_type": "stream",
     "text": [
      "/home/ir/Desktop/python/hw2.py:94: FutureWarning: ChainedAssignmentError: behaviour will change in pandas 3.0!\n",
      "You are setting values through chained assignment. Currently this works in certain cases, but when using Copy-on-Write (which will become the default behaviour in pandas 3.0) this will never work to update the original DataFrame or Series, because the intermediate object on which we are setting values will behave as a copy.\n",
      "A typical example is when you are setting values in a column of a DataFrame, like:\n",
      "\n",
      "df[\"col\"][row_indexer] = value\n",
      "\n",
      "Use `df.loc[row_indexer, \"col\"] = values` instead, to perform the assignment in a single step and ensure this keeps updating the original `df`.\n",
      "\n",
      "See the caveats in the documentation: https://pandas.pydata.org/pandas-docs/stable/user_guide/indexing.html#returning-a-view-versus-a-copy\n",
      "\n",
      "  al_frame.iloc[0][0] = 0\n",
      "/home/ir/Desktop/python/hw2.py:94: FutureWarning: Series.__setitem__ treating keys as positions is deprecated. In a future version, integer keys will always be treated as labels (consistent with DataFrame behavior). To set a value by position, use `ser.iloc[pos] = value`\n",
      "  al_frame.iloc[0][0] = 0\n",
      "/home/ir/Desktop/python/hw2.py:94: FutureWarning: ChainedAssignmentError: behaviour will change in pandas 3.0!\n",
      "You are setting values through chained assignment. Currently this works in certain cases, but when using Copy-on-Write (which will become the default behaviour in pandas 3.0) this will never work to update the original DataFrame or Series, because the intermediate object on which we are setting values will behave as a copy.\n",
      "A typical example is when you are setting values in a column of a DataFrame, like:\n",
      "\n",
      "df[\"col\"][row_indexer] = value\n",
      "\n",
      "Use `df.loc[row_indexer, \"col\"] = values` instead, to perform the assignment in a single step and ensure this keeps updating the original `df`.\n",
      "\n",
      "See the caveats in the documentation: https://pandas.pydata.org/pandas-docs/stable/user_guide/indexing.html#returning-a-view-versus-a-copy\n",
      "\n",
      "  al_frame.iloc[0][0] = 0\n",
      "/home/ir/Desktop/python/hw2.py:94: FutureWarning: Series.__setitem__ treating keys as positions is deprecated. In a future version, integer keys will always be treated as labels (consistent with DataFrame behavior). To set a value by position, use `ser.iloc[pos] = value`\n",
      "  al_frame.iloc[0][0] = 0\n",
      "/home/ir/Desktop/python/hw2.py:94: FutureWarning: ChainedAssignmentError: behaviour will change in pandas 3.0!\n",
      "You are setting values through chained assignment. Currently this works in certain cases, but when using Copy-on-Write (which will become the default behaviour in pandas 3.0) this will never work to update the original DataFrame or Series, because the intermediate object on which we are setting values will behave as a copy.\n",
      "A typical example is when you are setting values in a column of a DataFrame, like:\n",
      "\n",
      "df[\"col\"][row_indexer] = value\n",
      "\n",
      "Use `df.loc[row_indexer, \"col\"] = values` instead, to perform the assignment in a single step and ensure this keeps updating the original `df`.\n",
      "\n",
      "See the caveats in the documentation: https://pandas.pydata.org/pandas-docs/stable/user_guide/indexing.html#returning-a-view-versus-a-copy\n",
      "\n",
      "  al_frame.iloc[0][0] = 0\n",
      "/home/ir/Desktop/python/hw2.py:94: FutureWarning: Series.__setitem__ treating keys as positions is deprecated. In a future version, integer keys will always be treated as labels (consistent with DataFrame behavior). To set a value by position, use `ser.iloc[pos] = value`\n",
      "  al_frame.iloc[0][0] = 0\n"
     ]
    },
    {
     "data": {
      "text/plain": [
       "[(        a   a   r   a   r   l   s   s\n",
       "      0  -1  -2  -3  -4  -5  -6  -7  -8\n",
       "  a  -1   1   0  -1  -2  -3  -4  -5  -6\n",
       "  a  -2   0   2   1   0  -1  -2  -3  -4\n",
       "  f  -3  -1   1   1   0  -1  -2  -3  -4\n",
       "  l  -4  -2   0   0   0  -1   0  -1  -2\n",
       "  d  -5  -3  -1  -1  -1  -1  -1  -1  -2,\n",
       "  'aararlss',\n",
       "  '_a_afl_d'),\n",
       " (        a   a   r   a   r   l   s   s\n",
       "      0  -1  -2  -3  -4  -5  -6  -7  -8\n",
       "  r  -1  -1  -2  -1  -2  -3  -4  -5  -6\n",
       "  l  -2  -2  -2  -2  -2  -3  -2  -3  -4\n",
       "  d  -3  -3  -3  -3  -3  -3  -3  -3  -4\n",
       "  s  -4  -4  -4  -4  -4  -4  -4  -2  -2,\n",
       "  'aararlss',\n",
       "  '____rlds'),\n",
       " (        r   l   d   s\n",
       "      0  -1  -2  -3  -4\n",
       "  a  -1  -1  -2  -3  -4\n",
       "  a  -2  -2  -2  -3  -4\n",
       "  f  -3  -3  -3  -3  -4\n",
       "  l  -4  -4  -2  -3  -4\n",
       "  d  -5  -5  -3  -1  -2,\n",
       "  '__rlds',\n",
       "  'aafld_')]"
      ]
     },
     "execution_count": 6,
     "metadata": {},
     "output_type": "execute_result"
    }
   ],
   "source": [
    "AK_functions('aararlss', 'aafld', 'rlds', 'Needlman_Wunsch')"
   ]
  },
  {
   "cell_type": "code",
   "execution_count": 7,
   "id": "09f8baa1-6be1-4ed2-a596-b5bc7544ac16",
   "metadata": {},
   "outputs": [
    {
     "name": "stderr",
     "output_type": "stream",
     "text": [
      "/home/ir/Desktop/python/hw2.py:94: FutureWarning: ChainedAssignmentError: behaviour will change in pandas 3.0!\n",
      "You are setting values through chained assignment. Currently this works in certain cases, but when using Copy-on-Write (which will become the default behaviour in pandas 3.0) this will never work to update the original DataFrame or Series, because the intermediate object on which we are setting values will behave as a copy.\n",
      "A typical example is when you are setting values in a column of a DataFrame, like:\n",
      "\n",
      "df[\"col\"][row_indexer] = value\n",
      "\n",
      "Use `df.loc[row_indexer, \"col\"] = values` instead, to perform the assignment in a single step and ensure this keeps updating the original `df`.\n",
      "\n",
      "See the caveats in the documentation: https://pandas.pydata.org/pandas-docs/stable/user_guide/indexing.html#returning-a-view-versus-a-copy\n",
      "\n",
      "  al_frame.iloc[0][0] = 0\n",
      "/home/ir/Desktop/python/hw2.py:94: FutureWarning: Series.__setitem__ treating keys as positions is deprecated. In a future version, integer keys will always be treated as labels (consistent with DataFrame behavior). To set a value by position, use `ser.iloc[pos] = value`\n",
      "  al_frame.iloc[0][0] = 0\n"
     ]
    },
    {
     "data": {
      "text/plain": [
       "[(        1   2   r   a   r   l   s   s\n",
       "      0  -1  -2  -3  -4  -5  -6  -7  -8\n",
       "  r  -1  -1  -2  -1  -2  -3  -4  -5  -6\n",
       "  l  -2  -2  -2  -2  -2  -3  -2  -3  -4\n",
       "  d  -3  -3  -3  -3  -3  -3  -3  -3  -4\n",
       "  s  -4  -4  -4  -4  -4  -4  -4  -2  -2,\n",
       "  '12rarlss',\n",
       "  '____rlds')]"
      ]
     },
     "execution_count": 7,
     "metadata": {},
     "output_type": "execute_result"
    }
   ],
   "source": [
    "AK_functions('12rarlss', 'rlds', 'Needlman_Wunsch') # глянь, моя ошибка"
   ]
  },
  {
   "cell_type": "code",
   "execution_count": 8,
   "id": "a4d0326b-a0d9-405f-9392-4cd344dc10ad",
   "metadata": {},
   "outputs": [
    {
     "data": {
      "text/plain": [
       "'Недостаточно последовательностей'"
      ]
     },
     "execution_count": 8,
     "metadata": {},
     "output_type": "execute_result"
    }
   ],
   "source": [
    "AK_functions('rlds', 'Needlman_Wunsch')"
   ]
  },
  {
   "cell_type": "code",
   "execution_count": 9,
   "id": "cb2ec668-750c-452d-9040-2189a5561630",
   "metadata": {},
   "outputs": [
    {
     "data": {
      "text/plain": [
       "'Данная операция не найдена'"
      ]
     },
     "execution_count": 9,
     "metadata": {},
     "output_type": "execute_result"
    }
   ],
   "source": [
    "AK_functions('aararlss', '123')"
   ]
  },
  {
   "cell_type": "code",
   "execution_count": 10,
   "id": "a75ee5a9-946e-4446-acac-d5a42d61b27c",
   "metadata": {},
   "outputs": [
    {
     "data": {
      "text/plain": [
       "[\"qwe2- isn't sequence\"]"
      ]
     },
     "execution_count": 10,
     "metadata": {},
     "output_type": "execute_result"
    }
   ],
   "source": [
    "AK_functions('qwe2', 'restriction')"
   ]
  }
 ],
 "metadata": {
  "kernelspec": {
   "display_name": "Python 3 (ipykernel)",
   "language": "python",
   "name": "python3"
  },
  "language_info": {
   "codemirror_mode": {
    "name": "ipython",
    "version": 3
   },
   "file_extension": ".py",
   "mimetype": "text/x-python",
   "name": "python",
   "nbconvert_exporter": "python",
   "pygments_lexer": "ipython3",
   "version": "3.11.4"
  }
 },
 "nbformat": 4,
 "nbformat_minor": 5
}
