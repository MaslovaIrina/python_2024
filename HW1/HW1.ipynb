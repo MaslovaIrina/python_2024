{
 "cells": [
  {
   "cell_type": "code",
   "execution_count": 1,
   "id": "ab34d8f0-e9ec-49d9-88d6-6fab666be2ac",
   "metadata": {},
   "outputs": [],
   "source": [
    "##### Вспомогательные функции ##### "
   ]
  },
  {
   "cell_type": "code",
   "execution_count": 2,
   "id": "bc9d1c18-c31f-4dc8-9b39-b81c43918ac2",
   "metadata": {},
   "outputs": [],
   "source": [
    "def kort_rev(seqs):\n",
    "    stop_k = len(seqs)-1\n",
    "    seqs = seqs[0:stop_k]\n",
    "    return(seqs)"
   ]
  },
  {
   "cell_type": "code",
   "execution_count": 3,
   "id": "b4b89362-d2ba-43cf-94fd-4a7ca6528507",
   "metadata": {},
   "outputs": [],
   "source": [
    "def rna_dna(seqs,alphabet_dna = set('AGCTagct'), alphabet_rna = set('AGCUagcu')):\n",
    "    uniq_seq = set(seqs)\n",
    "    if uniq_seq <= alphabet_dna:\n",
    "        who = 'dna'\n",
    "    elif uniq_seq <= alphabet_rna:\n",
    "        who = 'rna'\n",
    "    else:\n",
    "        who = 'isnt seq'\n",
    "    return(who)"
   ]
  },
  {
   "cell_type": "code",
   "execution_count": 4,
   "id": "f627865a-1f99-4bd7-ba2e-2dbf8335c055",
   "metadata": {},
   "outputs": [],
   "source": [
    "def transcribe(seqs):\n",
    "    seqs = seqs.replace('T', 'U')\n",
    "    seqs = seqs.replace('t', 'u')\n",
    "    return(seqs)\n",
    "\n"
   ]
  },
  {
   "cell_type": "code",
   "execution_count": 5,
   "id": "2a7097bb-d730-4ec1-9720-5b910be1df9e",
   "metadata": {},
   "outputs": [],
   "source": [
    "def reverse(seqs):\n",
    "    return(seqs[::-1])"
   ]
  },
  {
   "cell_type": "code",
   "execution_count": 6,
   "id": "95860509-9d59-4916-b3cb-edf950e95f4f",
   "metadata": {},
   "outputs": [],
   "source": [
    "def complement(seqs, who, alphabet_first = 'AaGgCcTt', alphabet_second = 'TtCcGgAa',alphabet_rna_first = 'AaGgCcUu', alphabet_rna_second = 'UuCcGgTt'):\n",
    "    res_com_seq = ''\n",
    "    if who == 'dna':\n",
    "        for i in range(len(seqs)):\n",
    "            res_com_seq += alphabet_second[alphabet_first.index(seqs[i])]\n",
    "    else:\n",
    "        for i in range(len(seqs)):\n",
    "            res_com_seq += alphabet_rna_second[alphabet_rna_first.index(seqs[i])]\n",
    "    return(res_com_seq)\n",
    "        "
   ]
  },
  {
   "cell_type": "code",
   "execution_count": 7,
   "id": "982fe71f-8999-48d7-ac04-5b1c2e03422d",
   "metadata": {},
   "outputs": [],
   "source": [
    "def reverse_complement(seqs, who):\n",
    "    res_seq = reverse(complement(seqs, who))\n",
    "    return(res_seq)"
   ]
  },
  {
   "cell_type": "code",
   "execution_count": null,
   "id": "d18a37d7-b390-4006-b15c-8c0e351b111c",
   "metadata": {},
   "outputs": [],
   "source": []
  },
  {
   "cell_type": "code",
   "execution_count": null,
   "id": "9766b3f3-02f9-4e77-842d-2341df1db061",
   "metadata": {},
   "outputs": [],
   "source": []
  },
  {
   "cell_type": "code",
   "execution_count": null,
   "id": "6b352461-e74f-41d6-9cf0-522cedae8c5f",
   "metadata": {},
   "outputs": [],
   "source": []
  },
  {
   "cell_type": "code",
   "execution_count": 8,
   "id": "10107e7d-0d98-4f4d-92bf-fafd8be21a08",
   "metadata": {},
   "outputs": [],
   "source": [
    "##### Основная функция ##### "
   ]
  },
  {
   "cell_type": "code",
   "execution_count": 9,
   "id": "61f8db48-5cee-49b6-ad65-84274d2181ab",
   "metadata": {},
   "outputs": [],
   "source": [
    "def run_dna_rna_tools(*seqs):\n",
    "    \n",
    "    command = seqs[-1]\n",
    "    seqs = kort_rev(seqs)\n",
    "    result_seq = []\n",
    "\n",
    "    for seq in seqs:\n",
    "        uniq_seq = set(seq)\n",
    "        who = rna_dna(uniq_seq)\n",
    "        \n",
    "        if (who == 'rna' or who == 'dna'):\n",
    "            if command == 'transcribe':\n",
    "                result_seq.append(transcribe(seq))\n",
    "            elif command == 'reverse':\n",
    "                result_seq.append(reverse(seq))\n",
    "            elif command == 'complement':\n",
    "                result_seq.append(complement(seq, who))\n",
    "            elif command == 'reverse_complement':\n",
    "                result_seq.append(reverse_complement(seq, who))\n",
    "            else:\n",
    "                print(command, ' - unknown command')\n",
    "            \n",
    "\n",
    "        else:\n",
    "            print(seq, ' - isnt seq')\n",
    "    if result_seq != []:        \n",
    "        return(result_seq)\n",
    "\n",
    "            "
   ]
  },
  {
   "cell_type": "code",
   "execution_count": null,
   "id": "51e8d01f-67cc-4c6a-8aac-4c40a369d4b1",
   "metadata": {},
   "outputs": [],
   "source": []
  },
  {
   "cell_type": "code",
   "execution_count": null,
   "id": "b08d816f-96a0-4585-a306-d73c46b0dc46",
   "metadata": {},
   "outputs": [],
   "source": []
  },
  {
   "cell_type": "code",
   "execution_count": null,
   "id": "de286a0a-0f3f-425e-a2aa-daf64a7ba1e2",
   "metadata": {},
   "outputs": [],
   "source": []
  },
  {
   "cell_type": "code",
   "execution_count": 10,
   "id": "0d87e59c-bf7e-4a2d-9c79-3a526b852b56",
   "metadata": {},
   "outputs": [],
   "source": [
    "##### Примеры использования ##### "
   ]
  },
  {
   "cell_type": "code",
   "execution_count": 11,
   "id": "973e8da1-6d5e-4c56-a363-f5a43b430b1f",
   "metadata": {},
   "outputs": [
    {
     "data": {
      "text/plain": [
       "['AUG']"
      ]
     },
     "execution_count": 11,
     "metadata": {},
     "output_type": "execute_result"
    }
   ],
   "source": [
    "run_dna_rna_tools('ATG', 'transcribe') # 'AUG'"
   ]
  },
  {
   "cell_type": "code",
   "execution_count": 12,
   "id": "2988ded2-9f84-484e-91cf-84152ca6e724",
   "metadata": {},
   "outputs": [
    {
     "data": {
      "text/plain": [
       "['GTA']"
      ]
     },
     "execution_count": 12,
     "metadata": {},
     "output_type": "execute_result"
    }
   ],
   "source": [
    "run_dna_rna_tools('ATG', 'reverse') # 'GTA"
   ]
  },
  {
   "cell_type": "code",
   "execution_count": 13,
   "id": "eb919008-b63d-452a-a592-c2cecc6eef8b",
   "metadata": {},
   "outputs": [
    {
     "data": {
      "text/plain": [
       "['TaC']"
      ]
     },
     "execution_count": 13,
     "metadata": {},
     "output_type": "execute_result"
    }
   ],
   "source": [
    "run_dna_rna_tools('AtG', 'complement') # 'TaC'"
   ]
  },
  {
   "cell_type": "code",
   "execution_count": 14,
   "id": "8ef379ba-4225-4ffe-9278-be44fb107a2f",
   "metadata": {},
   "outputs": [
    {
     "data": {
      "text/plain": [
       "['cAT']"
      ]
     },
     "execution_count": 14,
     "metadata": {},
     "output_type": "execute_result"
    }
   ],
   "source": [
    "run_dna_rna_tools('ATg', 'reverse_complement') # 'cAT'"
   ]
  },
  {
   "cell_type": "code",
   "execution_count": 15,
   "id": "256a01b7-9052-4766-ad37-04e353ee5d25",
   "metadata": {},
   "outputs": [
    {
     "data": {
      "text/plain": [
       "['GTA', 'Ta']"
      ]
     },
     "execution_count": 15,
     "metadata": {},
     "output_type": "execute_result"
    }
   ],
   "source": [
    "run_dna_rna_tools('ATG', 'aT', 'reverse') # ['GTA', 'Ta']"
   ]
  },
  {
   "cell_type": "code",
   "execution_count": 16,
   "id": "45ca153a-b596-4acb-bfd2-8cbeb25e3aa3",
   "metadata": {},
   "outputs": [
    {
     "name": "stdout",
     "output_type": "stream",
     "text": [
      "nado chto-to sdelat  - unknown command\n"
     ]
    }
   ],
   "source": [
    "run_dna_rna_tools('ATG', 'nado chto-to sdelat') "
   ]
  },
  {
   "cell_type": "code",
   "execution_count": 17,
   "id": "71744113-96e5-4c32-a680-af3a5e11dbb8",
   "metadata": {},
   "outputs": [
    {
     "name": "stdout",
     "output_type": "stream",
     "text": [
      "to samoe chto-to  - isnt seq\n"
     ]
    }
   ],
   "source": [
    "run_dna_rna_tools('to samoe chto-to', 'reverse')"
   ]
  },
  {
   "cell_type": "code",
   "execution_count": 18,
   "id": "0ce0764b-eb69-4ac5-a95f-4d23aa8c8c1e",
   "metadata": {},
   "outputs": [
    {
     "name": "stdout",
     "output_type": "stream",
     "text": [
      "ATgU  - isnt seq\n"
     ]
    }
   ],
   "source": [
    "run_dna_rna_tools('ATgU', 'reverse_complement')"
   ]
  }
 ],
 "metadata": {
  "kernelspec": {
   "display_name": "Python 3 (ipykernel)",
   "language": "python",
   "name": "python3"
  },
  "language_info": {
   "codemirror_mode": {
    "name": "ipython",
    "version": 3
   },
   "file_extension": ".py",
   "mimetype": "text/x-python",
   "name": "python",
   "nbconvert_exporter": "python",
   "pygments_lexer": "ipython3",
   "version": "3.10.12"
  }
 },
 "nbformat": 4,
 "nbformat_minor": 5
}
